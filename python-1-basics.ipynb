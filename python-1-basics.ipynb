{
 "cells": [
  {
   "cell_type": "markdown",
   "metadata": {},
   "source": [
    "# Introduction to data analysis in Python\n",
    "\n",
    "## Part 1 - Python basics\n",
    "\n",
    "---"
   ]
  },
  {
   "cell_type": "markdown",
   "metadata": {},
   "source": [
    "### Variable types"
   ]
  },
  {
   "cell_type": "code",
   "execution_count": null,
   "metadata": {},
   "outputs": [],
   "source": []
  },
  {
   "cell_type": "markdown",
   "metadata": {},
   "source": [
    "### Is Python case-sensitive?"
   ]
  },
  {
   "cell_type": "code",
   "execution_count": null,
   "metadata": {},
   "outputs": [],
   "source": []
  },
  {
   "cell_type": "markdown",
   "metadata": {},
   "source": [
    "### Some useful keyboard shortcuts\n",
    "\n",
    "* **Run the current cell**: <kbd>Ctrl</kbd>+<kbd>Enter</kbd> (Windows/Linux), <kbd>Command</kbd>+<kbd>return</kbd> (Mac)\n",
    "\n",
    "\n",
    "* **Run the current cell, select below**: <kbd>Shift</kbd>+<kbd>Enter</kbd>\n",
    "\n",
    "\n",
    "* **Comment**: <kbd>Ctrl</kbd>+<kbd>/</kbd>\n",
    "\n",
    "For a complete list of the keyboard shortcuts, go to **Help** > **Keyboard Shortcuts**."
   ]
  },
  {
   "cell_type": "markdown",
   "metadata": {},
   "source": [
    "### Arithmetic operators\n",
    "\n",
    "| Operation | Python operator | Example |\n",
    "|--|:--:|--|\n",
    "| Addition | `+` | `1 + 2` gives 3 |\n",
    "| Subtraction | `-` | `8 - 2` gives 6 |\n",
    "| Multiplication | `*` | `2 * 3` gives 6 |\n",
    "| Division | `/` | `8 / 4` gives 2 |\n",
    "| Exponent | `**` | `2 ** 3` gives 8 |\n",
    "| Modulus | `%` | `10 % 3` gives 1 |"
   ]
  },
  {
   "cell_type": "markdown",
   "metadata": {},
   "source": [
    "### The volume of a sphere with radius $r$ is given by $\\frac{4}{3}\\pi r^3$\n",
    "\n",
    "<img src=\"https://frfeng.github.io/imse586/sphere.png\" width=\"150\"/>\n",
    "\n",
    "### What is the volume of a sphere with a radius of 5?"
   ]
  },
  {
   "cell_type": "code",
   "execution_count": null,
   "metadata": {},
   "outputs": [],
   "source": []
  },
  {
   "cell_type": "code",
   "execution_count": null,
   "metadata": {},
   "outputs": [],
   "source": []
  },
  {
   "cell_type": "markdown",
   "metadata": {},
   "source": [
    "### Exercise:\n",
    "\n",
    "### Define a function to calculate $y$ based on $x$.\n",
    "\n",
    "### $$y=\\sqrt{2x^2+3x+2}$$\n",
    "\n",
    "### Call your function to calculate $y$ when $x=3$.  "
   ]
  },
  {
   "cell_type": "code",
   "execution_count": null,
   "metadata": {},
   "outputs": [],
   "source": []
  },
  {
   "cell_type": "markdown",
   "metadata": {},
   "source": [
    "### Some common math functions in the numpy library\n",
    "\n",
    "- Square root: `np.sqrt()`\n",
    "\n",
    "\n",
    "- Exponential function: `np.exp()`\n",
    "\n",
    "\n",
    "- Natural logarithm: `np.log()`\n",
    "\n",
    "\n",
    "- Base 10 logarithm: `np.log10()`\n",
    "\n",
    "You can find more math functions from numpy's official documentation."
   ]
  },
  {
   "cell_type": "markdown",
   "metadata": {},
   "source": [
    "### Comparison operators\n",
    "\n",
    "| Algebraic operator | Python operator | Meaning |\n",
    "|:--:|:--:|--|\n",
    "| $a > b$ | `a > b` | a is greater than b |\n",
    "| $a < b$ | `a < b` | a is less than b |\n",
    "| $a \\geq b$ | `a >= b` | a is greater than or equal to b |\n",
    "| $a \\leq b$ | `a <= b` | a is less than or equal to b |\n",
    "| $a = b$ | `a == b` | a is equal to b |\n",
    "| $a \\ne b$ | `a != b` |  a is *not* equal to b |\n"
   ]
  },
  {
   "cell_type": "code",
   "execution_count": null,
   "metadata": {},
   "outputs": [],
   "source": []
  },
  {
   "cell_type": "markdown",
   "metadata": {},
   "source": [
    "### `if` statement"
   ]
  },
  {
   "cell_type": "code",
   "execution_count": null,
   "metadata": {},
   "outputs": [],
   "source": []
  },
  {
   "cell_type": "markdown",
   "metadata": {},
   "source": [
    "### More on lists"
   ]
  },
  {
   "cell_type": "code",
   "execution_count": null,
   "metadata": {},
   "outputs": [],
   "source": [
    "ages = [12, 34, 14, 5, 44]\n",
    "\n"
   ]
  },
  {
   "cell_type": "markdown",
   "metadata": {},
   "source": [
    "### Indexing and slicing for lists"
   ]
  },
  {
   "cell_type": "code",
   "execution_count": null,
   "metadata": {},
   "outputs": [],
   "source": []
  },
  {
   "cell_type": "markdown",
   "metadata": {},
   "source": [
    "### Descriptive statistics"
   ]
  },
  {
   "cell_type": "code",
   "execution_count": null,
   "metadata": {},
   "outputs": [],
   "source": []
  },
  {
   "cell_type": "markdown",
   "metadata": {},
   "source": [
    "### `for` loop\n",
    "\n",
    "It performs actions **for each item in a collection**."
   ]
  },
  {
   "cell_type": "code",
   "execution_count": null,
   "metadata": {},
   "outputs": [],
   "source": []
  },
  {
   "cell_type": "markdown",
   "metadata": {},
   "source": [
    "### Looping backwards"
   ]
  },
  {
   "cell_type": "code",
   "execution_count": null,
   "metadata": {},
   "outputs": [],
   "source": []
  },
  {
   "cell_type": "code",
   "execution_count": null,
   "metadata": {},
   "outputs": [],
   "source": []
  },
  {
   "cell_type": "markdown",
   "metadata": {},
   "source": [
    "### Emojis 😃"
   ]
  },
  {
   "cell_type": "code",
   "execution_count": null,
   "metadata": {},
   "outputs": [],
   "source": [
    "fruits = \"🍉 🍇 🍋 🍓 🍌 🍍 🥑 🍎 🥝 🍒 🍐\"\n",
    "\n"
   ]
  },
  {
   "cell_type": "markdown",
   "metadata": {},
   "source": [
    "### More on Jupyter notebook\n",
    "\n",
    "- **Clear all output**: go to **Kernel** > **Restart and Clear Output**\n",
    "\n",
    "\n",
    "- **Re-run all cells**: go to **Kernel** > **Restart and Run All**"
   ]
  },
  {
   "cell_type": "markdown",
   "metadata": {},
   "source": [
    "### Python Easter Egg\n",
    "\n",
    "Type `import this` and run it. "
   ]
  },
  {
   "cell_type": "code",
   "execution_count": null,
   "metadata": {},
   "outputs": [],
   "source": []
  },
  {
   "cell_type": "markdown",
   "metadata": {},
   "source": [
    "[YouTube video: The Zen of Python](https://www.youtube.com/watch?v=i6G6dmVJy74)"
   ]
  }
 ],
 "metadata": {
  "kernelspec": {
   "display_name": "Python 3",
   "language": "python",
   "name": "python3"
  },
  "language_info": {
   "codemirror_mode": {
    "name": "ipython",
    "version": 3
   },
   "file_extension": ".py",
   "mimetype": "text/x-python",
   "name": "python",
   "nbconvert_exporter": "python",
   "pygments_lexer": "ipython3",
   "version": "3.8.3"
  }
 },
 "nbformat": 4,
 "nbformat_minor": 2
}
